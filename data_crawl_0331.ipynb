{
 "cells": [
  {
   "cell_type": "code",
   "execution_count": 15,
   "metadata": {},
   "outputs": [],
   "source": [
    "from bs4 import BeautifulSoup\n",
    "import requests\n",
    "import pandas as pd\n",
    "import time\n",
    "from random import randint\n",
    "#code modify from https://medium.com/@danielcimring/downloading-historical-data-from-coinmarketcap-41a2b0111baf\n",
    "#https://coinmarketcap.com/methodology/#market-data\n",
    "#https://coinmarketcap.com/faq/"
   ]
  },
  {
   "cell_type": "code",
   "execution_count": 16,
   "metadata": {},
   "outputs": [
    {
     "name": "stdout",
     "output_type": "stream",
     "text": [
      "ETH https://coinmarketcap.com/currencies/ethereum/historical-data/?start=20130428&end=20190228\n",
      "BTC https://coinmarketcap.com/currencies/bitcoin/historical-data/?start=20130428&end=20190228\n",
      "LTC https://coinmarketcap.com/currencies/litecoin/historical-data/?start=20130428&end=20190228\n",
      "XRP https://coinmarketcap.com/currencies/ripple/historical-data/?start=20130428&end=20190228\n",
      "XMR https://coinmarketcap.com/currencies/monero/historical-data/?start=20130428&end=20190228\n",
      "DASH https://coinmarketcap.com/currencies/dash/historical-data/?start=20130428&end=20190228\n",
      "EOS https://coinmarketcap.com/currencies/eos/historical-data/?start=20130428&end=20190228\n",
      "ADA https://coinmarketcap.com/currencies/cardano/historical-data/?start=20130428&end=20190228\n",
      "TRON https://coinmarketcap.com/currencies/tron/historical-data/?start=20130428&end=20190228\n"
     ]
    }
   ],
   "source": [
    "url_list ={\"ETH\": \"https://coinmarketcap.com/currencies/ethereum/historical-data/?start=20130428&end=20190228\"\n",
    ",\"BTC\": \"https://coinmarketcap.com/currencies/bitcoin/historical-data/?start=20130428&end=20190228\"\n",
    ",\"LTC\":\"https://coinmarketcap.com/currencies/litecoin/historical-data/?start=20130428&end=20190228\"\n",
    ",\"XRP\":\"https://coinmarketcap.com/currencies/ripple/historical-data/?start=20130428&end=20190228\"\n",
    ",\"XMR\":\"https://coinmarketcap.com/currencies/monero/historical-data/?start=20130428&end=20190228\"\n",
    ",\"DASH\":\"https://coinmarketcap.com/currencies/dash/historical-data/?start=20130428&end=20190228\"  \n",
    ",\"EOS\":\"https://coinmarketcap.com/currencies/eos/historical-data/?start=20130428&end=20190228\"\n",
    ",\"ADA\":\"https://coinmarketcap.com/currencies/cardano/historical-data/?start=20130428&end=20190228\"        \n",
    ",\"TRON\":\"https://coinmarketcap.com/currencies/tron/historical-data/?start=20130428&end=20190228\"\n",
    "          }\n",
    "\n",
    "for key,value in url_list.items():\n",
    "    print(key,value)"
   ]
  },
  {
   "cell_type": "code",
   "execution_count": 17,
   "metadata": {},
   "outputs": [],
   "source": [
    "def getdata(urldict):\n",
    "    for key,value in urldict.items():\n",
    "        content = requests.get(value).content\n",
    "        soup = BeautifulSoup(content,'html.parser')\n",
    "        table = soup.find('table', {'class': 'table'})\n",
    "        data = [[td.text.strip() for td in tr.findChildren('td')] \n",
    "            for tr in table.findChildren('tr')]\n",
    "        df = pd.DataFrame(data)\n",
    "        df.drop(df.index[0], inplace=True) # first row is empty\n",
    "        df[0] =  pd.to_datetime(df[0]) # date\n",
    "        for i in range(1,7):\n",
    "            df[i] = pd.to_numeric(df[i].str.replace(\",\",\"\").str.replace(\"-\",\"\")) # some vol is missing and has -\n",
    "        df.columns = ['Date','Open','High','Low','Close','Volume','Market Cap']\n",
    "        df.set_index('Date',inplace=True)\n",
    "        df.sort_index(inplace=True)\n",
    "        filename = \"Data_\"+str(key)+\".csv\"\n",
    "        df.to_csv(filename)\n",
    "        \n",
    "        #sleep a while in order to prevent from\n",
    "        t = randint(1,5)\n",
    "        time.sleep(t)\n",
    "        print(\"take a rest(\",t,\")second!\")\n"
   ]
  },
  {
   "cell_type": "code",
   "execution_count": 20,
   "metadata": {},
   "outputs": [],
   "source": [
    "if __name__ == '__main__':\n",
    "    getdata(url_list)"
   ]
  },
  {
   "cell_type": "code",
   "execution_count": null,
   "metadata": {},
   "outputs": [],
   "source": []
  }
 ],
 "metadata": {
  "kernelspec": {
   "display_name": "Python 3",
   "language": "python",
   "name": "python3"
  },
  "language_info": {
   "codemirror_mode": {
    "name": "ipython",
    "version": 3
   },
   "file_extension": ".py",
   "mimetype": "text/x-python",
   "name": "python",
   "nbconvert_exporter": "python",
   "pygments_lexer": "ipython3",
   "version": "3.6.8"
  }
 },
 "nbformat": 4,
 "nbformat_minor": 2
}
